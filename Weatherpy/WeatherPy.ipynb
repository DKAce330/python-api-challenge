{
 "cells": [
  {
   "cell_type": "markdown",
   "metadata": {},
   "source": [
    "# WeatherPy\n",
    "\n",
    "---\n",
    "\n",
    "## Starter Code to Generate Random Geographic Coordinates and a List of Cities"
   ]
  },
  {
   "cell_type": "code",
   "execution_count": 2,
   "metadata": {
    "scrolled": true
   },
   "outputs": [],
   "source": [
    "# Dependencies and Setup\n",
    "import matplotlib.pyplot as plt\n",
    "import pandas as pd\n",
    "import numpy as np\n",
    "import requests\n",
    "import time\n",
    "from scipy.stats import linregress\n",
    "\n",
    "# Impor the OpenWeatherMap API key\n",
    "from api_keys import weather_api_key\n",
    "\n",
    "# Import citipy to determine the cities based on latitude and longitude\n",
    "from citipy import citipy"
   ]
  },
  {
   "cell_type": "markdown",
   "metadata": {},
   "source": [
    "### Generate the Cities List by Using the `citipy` Library"
   ]
  },
  {
   "cell_type": "code",
   "execution_count": 3,
   "metadata": {},
   "outputs": [
    {
     "name": "stdout",
     "output_type": "stream",
     "text": [
      "Number of cities in the list: 615\n"
     ]
    }
   ],
   "source": [
    "# Empty list for holding the latitude and longitude combinations\n",
    "lat_lngs = []\n",
    "\n",
    "# Empty list for holding the cities names\n",
    "cities = []\n",
    "\n",
    "# Range of latitudes and longitudes\n",
    "lat_range = (-90, 90)\n",
    "lng_range = (-180, 180)\n",
    "\n",
    "# Create a set of random lat and lng combinations\n",
    "lats = np.random.uniform(lat_range[0], lat_range[1], size=1500)\n",
    "lngs = np.random.uniform(lng_range[0], lng_range[1], size=1500)\n",
    "lat_lngs = zip(lats, lngs)\n",
    "\n",
    "# Identify nearest city for each lat, lng combination\n",
    "for lat_lng in lat_lngs:\n",
    "    city = citipy.nearest_city(lat_lng[0], lat_lng[1]).city_name\n",
    "    \n",
    "    # If the city is unique, then add it to a our cities list\n",
    "    if city not in cities:\n",
    "        cities.append(city)\n",
    "\n",
    "# Print the city count to confirm sufficient count\n",
    "print(f\"Number of cities in the list: {len(cities)}\")"
   ]
  },
  {
   "cell_type": "markdown",
   "metadata": {},
   "source": [
    "---"
   ]
  },
  {
   "cell_type": "markdown",
   "metadata": {},
   "source": [
    "## Requirement 1: Create Plots to Showcase the Relationship Between Weather Variables and Latitude\n",
    "\n",
    "### Use the OpenWeatherMap API to retrieve weather data from the cities list generated in the started code"
   ]
  },
  {
   "cell_type": "code",
   "execution_count": 4,
   "metadata": {},
   "outputs": [
    {
     "name": "stdout",
     "output_type": "stream",
     "text": [
      "{'coord': {'lon': 151.7765, 'lat': -32.9272}, 'weather': [{'id': 800, 'main': 'Clear', 'description': 'clear sky', 'icon': '01d'}], 'base': 'stations', 'main': {'temp': 287.05, 'feels_like': 286.87, 'temp_min': 285.02, 'temp_max': 289.66, 'pressure': 1014, 'humidity': 91}, 'visibility': 10000, 'wind': {'speed': 1.34, 'deg': 334, 'gust': 2.68}, 'clouds': {'all': 0}, 'dt': 1698608847, 'sys': {'type': 2, 'id': 2009459, 'country': 'AU', 'sunrise': 1698605790, 'sunset': 1698653790}, 'timezone': 39600, 'id': 2155472, 'name': 'Newcastle', 'cod': 200}\n"
     ]
    }
   ],
   "source": [
    "#Testing home city because the following line couldnt find cities\n",
    "url = \"https://api.openweathermap.org/data/2.5/weather?\"\n",
    "testurl = f\"{url}appid={weather_api_key}&q=Newcastle\"\n",
    "newcastle_weather = requests.get(testurl).json()\n",
    "print(newcastle_weather)"
   ]
  },
  {
   "cell_type": "code",
   "execution_count": 5,
   "metadata": {},
   "outputs": [
    {
     "name": "stdout",
     "output_type": "stream",
     "text": [
      "Beginning Data Retrieval     \n",
      "-----------------------------\n",
      "Processing Record 1 of Set 1 | Marka\n",
      "Processing Record 2 of Set 1 | Isafjordur\n",
      "Processing Record 3 of Set 1 | Blackmans Bay\n",
      "Processing Record 4 of Set 1 | Klyuchi\n",
      "Processing Record 5 of Set 1 | Ust-Nera\n",
      "Processing Record 6 of Set 1 | Georgetown\n",
      "Processing Record 7 of Set 1 | Port-Aux-Francais\n",
      "Processing Record 8 of Set 1 | Saratamata\n",
      "City not found. Skipping...\n",
      "Processing Record 9 of Set 1 | Ballina\n",
      "Processing Record 10 of Set 1 | Margaret River\n",
      "Processing Record 11 of Set 1 | Ilulissat\n",
      "Processing Record 12 of Set 1 | Hermanus\n",
      "Processing Record 13 of Set 1 | Yellowknife\n",
      "Processing Record 14 of Set 1 | Port Alfred\n",
      "Processing Record 15 of Set 1 | El Granada\n",
      "Processing Record 16 of Set 1 | Urangan\n",
      "Processing Record 17 of Set 1 | Kargasok\n",
      "Processing Record 18 of Set 1 | Licata\n",
      "Processing Record 19 of Set 1 | Hamilton\n",
      "Processing Record 20 of Set 1 | Xai-Xai\n",
      "Processing Record 21 of Set 1 | Peace River\n",
      "Processing Record 22 of Set 1 | Maitum\n",
      "Processing Record 23 of Set 1 | Uturoa\n",
      "Processing Record 24 of Set 1 | Pierre\n",
      "Processing Record 25 of Set 1 | Ushuaia\n",
      "Processing Record 26 of Set 1 | Waitangi\n",
      "Processing Record 27 of Set 1 | Adamstown\n",
      "Processing Record 28 of Set 1 | Banyo\n",
      "Processing Record 29 of Set 1 | Udachny\n",
      "Processing Record 30 of Set 1 | Dryden\n",
      "Processing Record 31 of Set 1 | Cobourg\n",
      "Processing Record 32 of Set 1 | Saint-Joseph\n",
      "Processing Record 33 of Set 1 | Edinburgh Of The Seven Seas\n",
      "Processing Record 34 of Set 1 | Puerto Ayora\n",
      "Processing Record 35 of Set 1 | Carnarvon\n",
      "Processing Record 36 of Set 1 | Ribeira Grande\n",
      "Processing Record 37 of Set 1 | Jamestown\n",
      "Processing Record 38 of Set 1 | Kodiak\n",
      "Processing Record 39 of Set 1 | Albany\n",
      "Processing Record 40 of Set 1 | Sao Tome\n",
      "Processing Record 41 of Set 1 | College\n",
      "Processing Record 42 of Set 1 | Queenstown\n",
      "Processing Record 43 of Set 1 | Bayji\n",
      "Processing Record 44 of Set 1 | Suva\n",
      "Processing Record 45 of Set 1 | Zaozersk\n",
      "Processing Record 46 of Set 1 | Atafu Village\n",
      "Processing Record 47 of Set 1 | Saipan\n",
      "Processing Record 48 of Set 1 | Puerto Natales\n",
      "Processing Record 49 of Set 1 | Lebu\n",
      "Processing Record 50 of Set 1 | Bethel\n",
      "Processing Record 0 of Set 2 | Bilibino\n",
      "Processing Record 1 of Set 2 | Haiku-Pauwela\n",
      "Processing Record 2 of Set 2 | Severo-Yeniseyskiy\n",
      "Processing Record 3 of Set 2 | Fisterra\n",
      "Processing Record 4 of Set 2 | Qaqortoq\n",
      "Processing Record 5 of Set 2 | Rio Grande\n",
      "Processing Record 6 of Set 2 | Lerwick\n",
      "Processing Record 7 of Set 2 | Whitehorse\n",
      "Processing Record 8 of Set 2 | Ahar\n",
      "Processing Record 9 of Set 2 | Avarua\n",
      "Processing Record 10 of Set 2 | Taman Rajawali\n",
      "City not found. Skipping...\n",
      "Processing Record 11 of Set 2 | Puerto Baquerizo Moreno\n",
      "Processing Record 12 of Set 2 | Maslyanino\n",
      "Processing Record 13 of Set 2 | Tarakan\n",
      "Processing Record 14 of Set 2 | Azul\n",
      "Processing Record 15 of Set 2 | Vorgashor\n",
      "Processing Record 16 of Set 2 | Lekki\n",
      "City not found. Skipping...\n",
      "Processing Record 17 of Set 2 | Newman\n",
      "Processing Record 18 of Set 2 | Shimanovsk\n",
      "Processing Record 19 of Set 2 | Andalgala\n",
      "Processing Record 20 of Set 2 | Tipton\n",
      "Processing Record 21 of Set 2 | Sitka\n",
      "Processing Record 22 of Set 2 | Abaza\n",
      "Processing Record 23 of Set 2 | Ramhormoz\n",
      "Processing Record 24 of Set 2 | Axim\n",
      "Processing Record 25 of Set 2 | Ocean Pointe\n",
      "City not found. Skipping...\n",
      "Processing Record 26 of Set 2 | Pingshan\n",
      "Processing Record 27 of Set 2 | Novyy Urengoy\n",
      "Processing Record 28 of Set 2 | Hithadhoo\n",
      "Processing Record 29 of Set 2 | Tsiombe\n",
      "Processing Record 30 of Set 2 | Panaba\n",
      "Processing Record 31 of Set 2 | Shibetsu\n",
      "Processing Record 32 of Set 2 | Takamaka\n",
      "City not found. Skipping...\n",
      "Processing Record 33 of Set 2 | Ad Dawadimi\n",
      "Processing Record 34 of Set 2 | Talnakh\n",
      "Processing Record 35 of Set 2 | Utrik\n",
      "Processing Record 36 of Set 2 | Yurimaguas\n",
      "Processing Record 37 of Set 2 | Grytviken\n",
      "Processing Record 38 of Set 2 | Colonia\n",
      "Processing Record 39 of Set 2 | Constitucion\n",
      "Processing Record 40 of Set 2 | Sorong\n",
      "Processing Record 41 of Set 2 | Nanao\n",
      "Processing Record 42 of Set 2 | Ahau\n",
      "City not found. Skipping...\n",
      "Processing Record 43 of Set 2 | Tolanaro\n",
      "Processing Record 44 of Set 2 | Guilmaro\n",
      "City not found. Skipping...\n",
      "Processing Record 45 of Set 2 | Mili\n",
      "Processing Record 46 of Set 2 | Siocon\n",
      "Processing Record 47 of Set 2 | Wailua Homesteads\n",
      "Processing Record 48 of Set 2 | Gambiran Satu\n",
      "Processing Record 49 of Set 2 | Chania\n",
      "Processing Record 0 of Set 3 | Lihue\n",
      "Processing Record 1 of Set 3 | Badger\n",
      "Processing Record 2 of Set 3 | Kisoro\n",
      "Processing Record 3 of Set 3 | Quibor\n",
      "Processing Record 4 of Set 3 | Touros\n",
      "Processing Record 5 of Set 3 | Tralee\n",
      "Processing Record 6 of Set 3 | Canutama\n",
      "Processing Record 7 of Set 3 | Kaduna\n",
      "Processing Record 8 of Set 3 | Luau\n",
      "Processing Record 9 of Set 3 | Callao\n",
      "Processing Record 10 of Set 3 | Palu\n",
      "Processing Record 11 of Set 3 | Nagqu\n",
      "Processing Record 12 of Set 3 | Selebi-Phikwe\n",
      "Processing Record 13 of Set 3 | Colac\n",
      "Processing Record 14 of Set 3 | Hasaki\n",
      "Processing Record 15 of Set 3 | Puerto San Carlos\n",
      "City not found. Skipping...\n",
      "Processing Record 16 of Set 3 | At Taj\n",
      "Processing Record 17 of Set 3 | Cape Coast\n",
      "Processing Record 18 of Set 3 | Taulaga\n",
      "Processing Record 19 of Set 3 | Huai Khot\n",
      "Processing Record 20 of Set 3 | Igrim\n",
      "Processing Record 21 of Set 3 | Port Lincoln\n",
      "Processing Record 22 of Set 3 | Askino\n",
      "Processing Record 23 of Set 3 | Yangor\n",
      "City not found. Skipping...\n",
      "Processing Record 24 of Set 3 | Grand Falls-Windsor\n",
      "Processing Record 25 of Set 3 | Olonkinbyen\n",
      "Processing Record 26 of Set 3 | Iqaluit\n",
      "Processing Record 27 of Set 3 | Sinabang\n",
      "Processing Record 28 of Set 3 | Ancud\n",
      "Processing Record 29 of Set 3 | Stephenville\n",
      "Processing Record 30 of Set 3 | Taiohae\n",
      "City not found. Skipping...\n",
      "Processing Record 31 of Set 3 | Thompson\n",
      "Processing Record 32 of Set 3 | Mountain Home\n",
      "Processing Record 33 of Set 3 | Aquiraz\n",
      "Processing Record 34 of Set 3 | Slave Lake\n",
      "Processing Record 35 of Set 3 | Maxixe\n",
      "Processing Record 36 of Set 3 | Andapa\n",
      "Processing Record 37 of Set 3 | Caleta De Carquin\n",
      "Processing Record 38 of Set 3 | Invercargill\n",
      "Processing Record 39 of Set 3 | Bredasdorp\n",
      "Processing Record 40 of Set 3 | Kaiapoi\n",
      "Processing Record 41 of Set 3 | North Bend\n",
      "Processing Record 42 of Set 3 | Derince\n",
      "Processing Record 43 of Set 3 | Alofi\n",
      "Processing Record 44 of Set 3 | Inarajan Village\n",
      "Processing Record 45 of Set 3 | Nizhneudinsk\n",
      "Processing Record 46 of Set 3 | Fish Town\n",
      "Processing Record 47 of Set 3 | Tengrela\n",
      "Processing Record 48 of Set 3 | Aldama\n",
      "Processing Record 49 of Set 3 | Juan Griego\n",
      "Processing Record 0 of Set 4 | Boguchany\n",
      "Processing Record 1 of Set 4 | Port Mathurin\n",
      "Processing Record 2 of Set 4 | Kachug\n",
      "Processing Record 3 of Set 4 | West Island\n",
      "Processing Record 4 of Set 4 | Ocos\n",
      "Processing Record 5 of Set 4 | Tromso\n",
      "Processing Record 6 of Set 4 | Mazagao\n",
      "Processing Record 7 of Set 4 | Palmer\n",
      "Processing Record 8 of Set 4 | Pangody\n",
      "Processing Record 9 of Set 4 | Miagao\n",
      "Processing Record 10 of Set 4 | Yanbu\n",
      "Processing Record 11 of Set 4 | La Passe\n",
      "Processing Record 12 of Set 4 | Lorengau\n",
      "Processing Record 13 of Set 4 | Comodoro Rivadavia\n",
      "Processing Record 14 of Set 4 | Sao Joao Da Barra\n",
      "Processing Record 15 of Set 4 | Tobi Village\n",
      "City not found. Skipping...\n",
      "Processing Record 16 of Set 4 | Santo Antonio Da Platina\n",
      "Processing Record 17 of Set 4 | Chonchi\n",
      "Processing Record 18 of Set 4 | Horta\n",
      "Processing Record 19 of Set 4 | Chake Chake\n",
      "Processing Record 20 of Set 4 | Hue\n",
      "Processing Record 21 of Set 4 | Iskateley\n",
      "Processing Record 22 of Set 4 | Port Elizabeth\n",
      "Processing Record 23 of Set 4 | Petropavlovsk-Kamchatsky\n",
      "Processing Record 24 of Set 4 | Tiksi\n",
      "Processing Record 25 of Set 4 | Sur\n",
      "Processing Record 26 of Set 4 | Remire-Montjoly\n",
      "Processing Record 27 of Set 4 | Afaahiti\n",
      "Processing Record 28 of Set 4 | Kruisfontein\n",
      "Processing Record 29 of Set 4 | Vingt Cinq\n",
      "City not found. Skipping...\n",
      "Processing Record 30 of Set 4 | Papatowai\n",
      "Processing Record 31 of Set 4 | Noosa Heads\n",
      "Processing Record 32 of Set 4 | Hami\n",
      "Processing Record 33 of Set 4 | Volosovo\n",
      "Processing Record 34 of Set 4 | Maumere\n",
      "Processing Record 35 of Set 4 | Morant Bay\n",
      "Processing Record 36 of Set 4 | Verkhnevilyuysk\n",
      "Processing Record 37 of Set 4 | Vorkuta\n"
     ]
    },
    {
     "name": "stdout",
     "output_type": "stream",
     "text": [
      "Processing Record 38 of Set 4 | Monrovia\n",
      "Processing Record 39 of Set 4 | Cargados Carajos\n",
      "City not found. Skipping...\n",
      "Processing Record 40 of Set 4 | Bushland Beach\n",
      "City not found. Skipping...\n",
      "Processing Record 41 of Set 4 | Sao Miguel Do Araguaia\n",
      "Processing Record 42 of Set 4 | Portage La Prairie\n",
      "Processing Record 43 of Set 4 | Stanley\n",
      "Processing Record 44 of Set 4 | Toga Village\n",
      "City not found. Skipping...\n",
      "Processing Record 45 of Set 4 | Matsubase\n",
      "Processing Record 46 of Set 4 | Christchurch\n",
      "Processing Record 47 of Set 4 | Pisco\n",
      "Processing Record 48 of Set 4 | Sassandra\n",
      "Processing Record 49 of Set 4 | San Luis De La Loma\n",
      "Processing Record 0 of Set 5 | Anadyr\n",
      "Processing Record 1 of Set 5 | Mana\n",
      "Processing Record 2 of Set 5 | Poso\n",
      "Processing Record 3 of Set 5 | Cannonvale\n",
      "Processing Record 4 of Set 5 | Ghanzi\n",
      "Processing Record 5 of Set 5 | Kingston\n",
      "Processing Record 6 of Set 5 | Aasiaat\n",
      "Processing Record 7 of Set 5 | Bouarfa\n",
      "Processing Record 8 of Set 5 | Aykhal\n",
      "Processing Record 9 of Set 5 | Pointe Michel\n",
      "Processing Record 10 of Set 5 | Greenland\n",
      "Processing Record 11 of Set 5 | Susuman\n",
      "Processing Record 12 of Set 5 | Pisz\n",
      "Processing Record 13 of Set 5 | Taltal\n",
      "Processing Record 14 of Set 5 | Vilyuysk\n",
      "Processing Record 15 of Set 5 | Bozhou\n",
      "Processing Record 16 of Set 5 | East Falmouth\n",
      "Processing Record 17 of Set 5 | 'Ohonua\n",
      "City not found. Skipping...\n",
      "Processing Record 18 of Set 5 | Katsuura\n",
      "Processing Record 19 of Set 5 | Bocas Del Toro\n",
      "Processing Record 20 of Set 5 | Khed\n",
      "Processing Record 21 of Set 5 | Pindushi\n",
      "Processing Record 22 of Set 5 | Burang\n",
      "Processing Record 23 of Set 5 | Longyearbyen\n",
      "Processing Record 24 of Set 5 | Mata-Utu\n",
      "Processing Record 25 of Set 5 | Kawthoung\n",
      "City not found. Skipping...\n",
      "Processing Record 26 of Set 5 | Acapulco De Juarez\n",
      "Processing Record 27 of Set 5 | Happy Valley-Goose Bay\n",
      "Processing Record 28 of Set 5 | Kulia Village\n",
      "City not found. Skipping...\n",
      "Processing Record 29 of Set 5 | Murghob\n",
      "Processing Record 30 of Set 5 | Nuuk\n",
      "Processing Record 31 of Set 5 | Tranovaho\n",
      "City not found. Skipping...\n",
      "Processing Record 32 of Set 5 | Mkokotoni\n",
      "Processing Record 33 of Set 5 | Jabor\n",
      "Processing Record 34 of Set 5 | Drohobych\n",
      "Processing Record 35 of Set 5 | Kristiansund\n",
      "Processing Record 36 of Set 5 | Janowiec Wielkopolski\n",
      "Processing Record 37 of Set 5 | Argo\n",
      "Processing Record 38 of Set 5 | Tazovsky\n",
      "Processing Record 39 of Set 5 | Nguigmi\n",
      "Processing Record 40 of Set 5 | Flin Flon\n",
      "Processing Record 41 of Set 5 | Margate\n",
      "Processing Record 42 of Set 5 | St. John'S\n",
      "Processing Record 43 of Set 5 | Chuguyevka\n",
      "Processing Record 44 of Set 5 | Sadjoavato\n",
      "City not found. Skipping...\n",
      "Processing Record 45 of Set 5 | Igarka\n",
      "Processing Record 46 of Set 5 | Hadibu\n",
      "Processing Record 47 of Set 5 | Hawaiian Paradise Park\n",
      "Processing Record 48 of Set 5 | San Juan De Los Morros\n",
      "Processing Record 49 of Set 5 | Xingcheng\n",
      "Processing Record 0 of Set 6 | Warrenpoint\n",
      "Processing Record 1 of Set 6 | Ljungsbro\n",
      "Processing Record 2 of Set 6 | Quellon\n",
      "Processing Record 3 of Set 6 | Tabou\n",
      "Processing Record 4 of Set 6 | Prado\n",
      "Processing Record 5 of Set 6 | Okny\n",
      "Processing Record 6 of Set 6 | Massenya\n",
      "Processing Record 7 of Set 6 | San Antonio De Pale\n",
      "Processing Record 8 of Set 6 | Xichang\n",
      "Processing Record 9 of Set 6 | Mount Gambier\n",
      "Processing Record 10 of Set 6 | Kalmunai\n",
      "Processing Record 11 of Set 6 | Cova Figueira\n",
      "Processing Record 12 of Set 6 | Nampula\n",
      "Processing Record 13 of Set 6 | Inverloch\n",
      "Processing Record 14 of Set 6 | Goya\n",
      "Processing Record 15 of Set 6 | Petrozavodsk\n",
      "Processing Record 16 of Set 6 | Mount Pearl\n",
      "Processing Record 17 of Set 6 | Mugia\n",
      "Processing Record 18 of Set 6 | Nizhnyaya Tavda\n",
      "Processing Record 19 of Set 6 | Kailua-Kona\n",
      "Processing Record 20 of Set 6 | Igaci\n",
      "Processing Record 21 of Set 6 | Berezovyy\n",
      "Processing Record 22 of Set 6 | Moree\n",
      "Processing Record 23 of Set 6 | Nemuro\n",
      "Processing Record 24 of Set 6 | Labytnangi\n",
      "Processing Record 25 of Set 6 | Dursunbey\n",
      "Processing Record 26 of Set 6 | Lampazos De Naranjo\n",
      "Processing Record 27 of Set 6 | Labasa\n",
      "Processing Record 28 of Set 6 | Patong\n",
      "Processing Record 29 of Set 6 | Punta Arenas\n",
      "Processing Record 30 of Set 6 | Vila Velha\n",
      "Processing Record 31 of Set 6 | New Norfolk\n",
      "Processing Record 32 of Set 6 | Pacific Grove\n",
      "Processing Record 33 of Set 6 | Sao Felix Do Xingu\n",
      "Processing Record 34 of Set 6 | Baie-Comeau\n",
      "Processing Record 35 of Set 6 | Polyarnyy\n",
      "Processing Record 36 of Set 6 | Enewetak\n",
      "Processing Record 37 of Set 6 | Val-D'Or\n",
      "Processing Record 38 of Set 6 | Purwakarta\n",
      "Processing Record 39 of Set 6 | Cable Beach\n",
      "City not found. Skipping...\n",
      "Processing Record 40 of Set 6 | Inyonga\n",
      "Processing Record 41 of Set 6 | Nchelenge\n",
      "Processing Record 42 of Set 6 | Saint-Philippe\n",
      "Processing Record 43 of Set 6 | Greymouth\n",
      "Processing Record 44 of Set 6 | Bamendjou\n",
      "Processing Record 45 of Set 6 | Arzgir\n",
      "Processing Record 46 of Set 6 | Vila Franca Do Campo\n",
      "Processing Record 47 of Set 6 | Dudinka\n",
      "Processing Record 48 of Set 6 | Ocean City\n",
      "Processing Record 49 of Set 6 | Arteche\n",
      "Processing Record 0 of Set 7 | Acarau\n",
      "Processing Record 1 of Set 7 | Kyzyl-Mazhalyk\n",
      "Processing Record 2 of Set 7 | Nelson Bay\n",
      "Processing Record 3 of Set 7 | Lucapa\n",
      "Processing Record 4 of Set 7 | Heunghae\n",
      "Processing Record 5 of Set 7 | Inongo\n",
      "Processing Record 6 of Set 7 | Hirara\n",
      "Processing Record 7 of Set 7 | Kasulu\n",
      "Processing Record 8 of Set 7 | Chimore\n",
      "Processing Record 9 of Set 7 | Fuxin\n",
      "Processing Record 10 of Set 7 | Harar\n",
      "Processing Record 11 of Set 7 | Alaghsas\n",
      "Processing Record 12 of Set 7 | Yefremov\n",
      "Processing Record 13 of Set 7 | Carutapera\n",
      "Processing Record 14 of Set 7 | Anse\n",
      "Processing Record 15 of Set 7 | Great Bend\n",
      "Processing Record 16 of Set 7 | Zheleznogorsk-Ilimskiy\n",
      "Processing Record 17 of Set 7 | Kralendijk\n",
      "Processing Record 18 of Set 7 | Luanda\n",
      "Processing Record 19 of Set 7 | Pibor\n",
      "City not found. Skipping...\n",
      "Processing Record 20 of Set 7 | Luderitz\n",
      "Processing Record 21 of Set 7 | Tenno\n",
      "Processing Record 22 of Set 7 | Oranjemund\n",
      "Processing Record 23 of Set 7 | Markovo\n",
      "Processing Record 24 of Set 7 | Vijayawada\n",
      "Processing Record 25 of Set 7 | Peno\n",
      "Processing Record 26 of Set 7 | Lospalos\n",
      "Processing Record 27 of Set 7 | Scarborough\n",
      "Processing Record 28 of Set 7 | Malanje\n",
      "Processing Record 29 of Set 7 | Assab\n",
      "Processing Record 30 of Set 7 | Kapa'A\n",
      "Processing Record 31 of Set 7 | Dunedin\n",
      "Processing Record 32 of Set 7 | Natal\n",
      "Processing Record 33 of Set 7 | Coquimbo\n",
      "Processing Record 34 of Set 7 | Arraial Do Cabo\n",
      "Processing Record 35 of Set 7 | Yabelo\n",
      "Processing Record 36 of Set 7 | Kununurra\n",
      "Processing Record 37 of Set 7 | Arcadia\n",
      "Processing Record 38 of Set 7 | Galveston\n",
      "Processing Record 39 of Set 7 | Kitimat\n",
      "Processing Record 40 of Set 7 | Ojinaga\n",
      "Processing Record 41 of Set 7 | Lompoc\n",
      "Processing Record 42 of Set 7 | Murashi\n",
      "Processing Record 43 of Set 7 | At Taraf\n",
      "Processing Record 44 of Set 7 | Al Lagowa\n",
      "Processing Record 45 of Set 7 | Howard Springs\n",
      "Processing Record 46 of Set 7 | Ambovombe\n",
      "Processing Record 47 of Set 7 | Jinghong\n",
      "Processing Record 48 of Set 7 | Poltar\n",
      "Processing Record 49 of Set 7 | Lanivtsi\n",
      "Processing Record 0 of Set 8 | Amarante Do Maranhao\n",
      "Processing Record 1 of Set 8 | East London\n",
      "Processing Record 2 of Set 8 | Wallersdorf\n",
      "Processing Record 3 of Set 8 | Sao Fidelis\n",
      "Processing Record 4 of Set 8 | Dwarka\n",
      "Processing Record 5 of Set 8 | Parabel'\n",
      "Processing Record 6 of Set 8 | La Nucia\n",
      "Processing Record 7 of Set 8 | Hastings\n",
      "Processing Record 8 of Set 8 | Aldinga Beach\n",
      "Processing Record 9 of Set 8 | Cabo San Lucas\n",
      "Processing Record 10 of Set 8 | Kone\n",
      "Processing Record 11 of Set 8 | Manta\n",
      "Processing Record 12 of Set 8 | Zhangjiakou Shi Xuanhua Qu\n",
      "Processing Record 13 of Set 8 | Yanam\n",
      "Processing Record 14 of Set 8 | Zapolyarnyy\n",
      "Processing Record 15 of Set 8 | Wuwei\n",
      "Processing Record 16 of Set 8 | Alexandria\n",
      "Processing Record 17 of Set 8 | Quelimane\n",
      "Processing Record 18 of Set 8 | Rongelap\n",
      "Processing Record 19 of Set 8 | Miles City\n",
      "Processing Record 20 of Set 8 | Ujae\n",
      "Processing Record 21 of Set 8 | Mersa Matruh\n",
      "Processing Record 22 of Set 8 | Fort Bragg\n",
      "Processing Record 23 of Set 8 | Maun\n",
      "Processing Record 24 of Set 8 | Codrington\n",
      "Processing Record 25 of Set 8 | Deniliquin\n",
      "Processing Record 26 of Set 8 | Colares\n"
     ]
    },
    {
     "name": "stdout",
     "output_type": "stream",
     "text": [
      "Processing Record 27 of Set 8 | Bandrele\n",
      "Processing Record 28 of Set 8 | Gaiman\n",
      "Processing Record 29 of Set 8 | Weyburn\n",
      "Processing Record 30 of Set 8 | Ola\n",
      "Processing Record 31 of Set 8 | Malabar\n",
      "Processing Record 32 of Set 8 | Port Glaud\n",
      "City not found. Skipping...\n",
      "Processing Record 33 of Set 8 | Siilinjarvi\n",
      "Processing Record 34 of Set 8 | Siwa Oasis\n",
      "Processing Record 35 of Set 8 | Rawson\n",
      "Processing Record 36 of Set 8 | Ptolemaida\n",
      "Processing Record 37 of Set 8 | Koni-Djodjo\n",
      "Processing Record 38 of Set 8 | Cafayate\n",
      "Processing Record 39 of Set 8 | Kerikeri\n",
      "Processing Record 40 of Set 8 | Joshimath\n",
      "Processing Record 41 of Set 8 | Meadow Lake\n",
      "Processing Record 42 of Set 8 | Chivhu\n",
      "Processing Record 43 of Set 8 | Ulsteinvik\n",
      "Processing Record 44 of Set 8 | Khorugh\n",
      "Processing Record 45 of Set 8 | Savonlinna\n",
      "Processing Record 46 of Set 8 | Chui\n",
      "Processing Record 47 of Set 8 | Merizo Village\n",
      "Processing Record 48 of Set 8 | Tokyo\n",
      "Processing Record 49 of Set 8 | Metlili Chaamba\n",
      "Processing Record 0 of Set 9 | La Ronge\n",
      "Processing Record 1 of Set 9 | Pathardi\n",
      "Processing Record 2 of Set 9 | Malvan\n",
      "Processing Record 3 of Set 9 | Kattivakkam\n",
      "Processing Record 4 of Set 9 | Lesogorsk\n",
      "Processing Record 5 of Set 9 | Kargopol'\n",
      "Processing Record 6 of Set 9 | Taichung\n",
      "Processing Record 7 of Set 9 | Belmonte\n",
      "Processing Record 8 of Set 9 | Fale Old Settlement\n",
      "Processing Record 9 of Set 9 | Pereira Barreto\n",
      "Processing Record 10 of Set 9 | Luziania\n",
      "Processing Record 11 of Set 9 | Rabo De Peixe\n",
      "Processing Record 12 of Set 9 | Singida\n",
      "Processing Record 13 of Set 9 | Northam\n",
      "Processing Record 14 of Set 9 | Byron Bay\n",
      "Processing Record 15 of Set 9 | Bedesa\n",
      "Processing Record 16 of Set 9 | Sisimiut\n",
      "Processing Record 17 of Set 9 | Bazarak\n",
      "Processing Record 18 of Set 9 | Tocopilla\n",
      "Processing Record 19 of Set 9 | Mishelevka\n",
      "Processing Record 20 of Set 9 | Rio Turbio\n",
      "City not found. Skipping...\n",
      "Processing Record 21 of Set 9 | Boda\n",
      "Processing Record 22 of Set 9 | Alice Springs\n",
      "Processing Record 23 of Set 9 | Inari\n",
      "Processing Record 24 of Set 9 | Ulladulla\n",
      "Processing Record 25 of Set 9 | Gazli\n",
      "Processing Record 26 of Set 9 | Isangel\n",
      "Processing Record 27 of Set 9 | Cockburn Town\n",
      "Processing Record 28 of Set 9 | Nova Sintra\n",
      "Processing Record 29 of Set 9 | Sirvan\n",
      "Processing Record 30 of Set 9 | Le Vauclin\n",
      "Processing Record 31 of Set 9 | Al-`Ula\n",
      "City not found. Skipping...\n",
      "Processing Record 32 of Set 9 | Egilsstadir\n",
      "Processing Record 33 of Set 9 | Quepos\n",
      "Processing Record 34 of Set 9 | Hayma'\n",
      "City not found. Skipping...\n",
      "Processing Record 35 of Set 9 | Kotido\n",
      "Processing Record 36 of Set 9 | Bam\n",
      "Processing Record 37 of Set 9 | Nar'Yan-Mar\n",
      "Processing Record 38 of Set 9 | Weno\n",
      "Processing Record 39 of Set 9 | Gamba\n",
      "Processing Record 40 of Set 9 | Usinsk\n",
      "Processing Record 41 of Set 9 | Corner Brook\n",
      "Processing Record 42 of Set 9 | Arvayheer\n",
      "Processing Record 43 of Set 9 | West End\n",
      "Processing Record 44 of Set 9 | Inirida\n",
      "Processing Record 45 of Set 9 | Jiwani\n",
      "Processing Record 46 of Set 9 | Persembe\n",
      "Processing Record 47 of Set 9 | Yuzhno-Kurilsk\n",
      "Processing Record 48 of Set 9 | Nadi\n",
      "Processing Record 49 of Set 9 | San Miguel\n",
      "Processing Record 0 of Set 10 | Idri\n",
      "Processing Record 1 of Set 10 | Sarupathar\n",
      "Processing Record 2 of Set 10 | Arkalyk\n",
      "Processing Record 3 of Set 10 | Constantia\n",
      "Processing Record 4 of Set 10 | Neon Karlovasion\n",
      "Processing Record 5 of Set 10 | Taoudenni\n",
      "Processing Record 6 of Set 10 | Glace Bay\n",
      "Processing Record 7 of Set 10 | Nikolayevsk-On-Amure\n",
      "Processing Record 8 of Set 10 | Lambton Shores\n",
      "City not found. Skipping...\n",
      "Processing Record 9 of Set 10 | Piti Village\n",
      "Processing Record 10 of Set 10 | Garoowe\n",
      "Processing Record 11 of Set 10 | Ghat\n",
      "Processing Record 12 of Set 10 | Pudasjarvi\n",
      "Processing Record 13 of Set 10 | Alotau\n",
      "City not found. Skipping...\n",
      "Processing Record 14 of Set 10 | Tidjikja\n",
      "Processing Record 15 of Set 10 | Tynda\n",
      "Processing Record 16 of Set 10 | Magadan\n",
      "Processing Record 17 of Set 10 | Uray\n",
      "Processing Record 18 of Set 10 | Trairi\n",
      "Processing Record 19 of Set 10 | Villa Alberto Andres Alvarado Aramburo\n",
      "City not found. Skipping...\n",
      "Processing Record 20 of Set 10 | Minas De Marcona\n",
      "Processing Record 21 of Set 10 | Bereket\n",
      "Processing Record 22 of Set 10 | Larkana\n",
      "Processing Record 23 of Set 10 | Khandyga\n",
      "Processing Record 24 of Set 10 | Tayu\n",
      "Processing Record 25 of Set 10 | Mgandu\n",
      "Processing Record 26 of Set 10 | Turtas\n",
      "Processing Record 27 of Set 10 | Mandera\n",
      "Processing Record 28 of Set 10 | San Antonio\n",
      "Processing Record 29 of Set 10 | Chilca\n",
      "Processing Record 30 of Set 10 | Alesund\n",
      "Processing Record 31 of Set 10 | Berdigestyakh\n",
      "Processing Record 32 of Set 10 | Toliara\n",
      "Processing Record 33 of Set 10 | Oum Hadjer\n",
      "Processing Record 34 of Set 10 | Balakhta\n",
      "Processing Record 35 of Set 10 | Lakatoro\n",
      "Processing Record 36 of Set 10 | Puerto Lempira\n",
      "Processing Record 37 of Set 10 | Saint-Francois\n",
      "Processing Record 38 of Set 10 | Brookings\n",
      "Processing Record 39 of Set 10 | Aripuana\n",
      "Processing Record 40 of Set 10 | Mathis\n",
      "Processing Record 41 of Set 10 | Pasni\n",
      "Processing Record 42 of Set 10 | Gadzhiyevo\n",
      "Processing Record 43 of Set 10 | Geraldton\n",
      "Processing Record 44 of Set 10 | Labrador City\n",
      "Processing Record 45 of Set 10 | Ngambe\n",
      "Processing Record 46 of Set 10 | Pacocha\n",
      "Processing Record 47 of Set 10 | Mayang Imphal\n",
      "Processing Record 48 of Set 10 | Keflavik\n",
      "Processing Record 49 of Set 10 | Ta`U\n",
      "Processing Record 0 of Set 11 | Mbuji-Mayi\n",
      "Processing Record 1 of Set 11 | Kharp\n",
      "Processing Record 2 of Set 11 | Porto-Vecchio\n",
      "Processing Record 3 of Set 11 | Road Town\n",
      "Processing Record 4 of Set 11 | Isheyevka\n",
      "Processing Record 5 of Set 11 | Rakops\n",
      "Processing Record 6 of Set 11 | New Plymouth\n",
      "Processing Record 7 of Set 11 | Vadso\n",
      "Processing Record 8 of Set 11 | Price\n",
      "Processing Record 9 of Set 11 | Singaraja\n",
      "Processing Record 10 of Set 11 | Kiunga\n",
      "Processing Record 11 of Set 11 | Suoyarvi\n",
      "Processing Record 12 of Set 11 | Betio Village\n",
      "Processing Record 13 of Set 11 | Piraju\n",
      "Processing Record 14 of Set 11 | Pilar\n",
      "Processing Record 15 of Set 11 | Port-Cartier\n",
      "Processing Record 16 of Set 11 | Kidal\n",
      "Processing Record 17 of Set 11 | Mejit\n",
      "Processing Record 18 of Set 11 | Hagere Maryam\n",
      "Processing Record 19 of Set 11 | Manda\n",
      "Processing Record 20 of Set 11 | Island Harbour\n",
      "Processing Record 21 of Set 11 | Boa Vista\n",
      "Processing Record 22 of Set 11 | San Patricio\n",
      "Processing Record 23 of Set 11 | Kempsey\n",
      "Processing Record 24 of Set 11 | Goundi\n",
      "Processing Record 25 of Set 11 | Eirunepe\n",
      "Processing Record 26 of Set 11 | Fort St. John\n",
      "Processing Record 27 of Set 11 | Naze\n",
      "Processing Record 28 of Set 11 | Chernyshevskiy\n",
      "Processing Record 29 of Set 11 | James Island\n",
      "City not found. Skipping...\n",
      "Processing Record 30 of Set 11 | Ishigaki\n",
      "Processing Record 31 of Set 11 | Porto Novo\n",
      "Processing Record 32 of Set 11 | Dakhla\n",
      "Processing Record 33 of Set 11 | Alice\n",
      "Processing Record 34 of Set 11 | Luwuk\n",
      "Processing Record 35 of Set 11 | Smirnovo\n",
      "Processing Record 36 of Set 11 | Nizhneangarsk\n",
      "Processing Record 37 of Set 11 | Laguna\n",
      "Processing Record 38 of Set 11 | La Junta\n",
      "Processing Record 39 of Set 11 | Rudsar\n",
      "Processing Record 40 of Set 11 | Lazaro Cardenas\n",
      "Processing Record 41 of Set 11 | Bubaque\n",
      "Processing Record 42 of Set 11 | Santyoku\n",
      "Processing Record 43 of Set 11 | Virar\n",
      "Processing Record 44 of Set 11 | Kourou\n",
      "Processing Record 45 of Set 11 | Kovdor\n",
      "Processing Record 46 of Set 11 | Nsanje\n",
      "Processing Record 47 of Set 11 | Novokazalinsk\n",
      "City not found. Skipping...\n",
      "Processing Record 48 of Set 11 | Chunskiy\n",
      "Processing Record 49 of Set 11 | Lubango\n",
      "Processing Record 0 of Set 12 | Richards Bay\n",
      "Processing Record 1 of Set 12 | Tura\n",
      "Processing Record 2 of Set 12 | Yerofey Pavlovich\n",
      "Processing Record 3 of Set 12 | Murun-Kuren\n",
      "Processing Record 4 of Set 12 | Maiwut\n",
      "City not found. Skipping...\n",
      "Processing Record 5 of Set 12 | Izluchinsk\n",
      "Processing Record 6 of Set 12 | Angaur State\n",
      "Processing Record 7 of Set 12 | Emerald\n",
      "Processing Record 8 of Set 12 | Birzebbuga\n",
      "Processing Record 9 of Set 12 | Sunne\n",
      "Processing Record 10 of Set 12 | Siluko\n",
      "Processing Record 11 of Set 12 | Aral\n",
      "Processing Record 12 of Set 12 | Laikit, Laikit Ii (Dimembe)\n",
      "Processing Record 13 of Set 12 | Banda Aceh\n",
      "Processing Record 14 of Set 12 | Miranda\n"
     ]
    },
    {
     "name": "stdout",
     "output_type": "stream",
     "text": [
      "Processing Record 15 of Set 12 | Reyes\n",
      "Processing Record 16 of Set 12 | Bikenibeu Village\n",
      "Processing Record 17 of Set 12 | Fortaleza\n",
      "Processing Record 18 of Set 12 | Tofol\n",
      "Processing Record 19 of Set 12 | Nova Vicosa\n",
      "Processing Record 20 of Set 12 | Bischofshofen\n",
      "Processing Record 21 of Set 12 | Ekibastuz\n",
      "Processing Record 22 of Set 12 | Acaponeta\n",
      "Processing Record 23 of Set 12 | Walvis Bay\n",
      "Processing Record 24 of Set 12 | Mahina\n",
      "Processing Record 25 of Set 12 | Kaitong\n",
      "Processing Record 26 of Set 12 | Bremervorde\n",
      "Processing Record 27 of Set 12 | Mil'Kovo\n",
      "Processing Record 28 of Set 12 | Papao\n",
      "Processing Record 29 of Set 12 | Kolondieba\n",
      "Processing Record 30 of Set 12 | Hondo\n",
      "Processing Record 31 of Set 12 | Mossel Bay\n",
      "Processing Record 32 of Set 12 | Endicott\n",
      "Processing Record 33 of Set 12 | Kalianget\n",
      "Processing Record 34 of Set 12 | Abraham'S Bay\n",
      "City not found. Skipping...\n",
      "Processing Record 35 of Set 12 | Moniquira\n",
      "Processing Record 36 of Set 12 | Duong Dong\n",
      "Processing Record 37 of Set 12 | Madinat Ash Shamal\n",
      "Processing Record 38 of Set 12 | Kapoeta\n",
      "Processing Record 39 of Set 12 | Fort Mcmurray\n",
      "Processing Record 40 of Set 12 | Daru\n",
      "Processing Record 41 of Set 12 | Castillos\n",
      "City not found. Skipping...\n",
      "Processing Record 42 of Set 12 | Ambilobe\n",
      "Processing Record 43 of Set 12 | Bengkulu\n",
      "Processing Record 44 of Set 12 | Kapuskasing\n",
      "Processing Record 45 of Set 12 | Thanniyam\n",
      "City not found. Skipping...\n",
      "Processing Record 46 of Set 12 | Rufino\n",
      "Processing Record 47 of Set 12 | Formosa\n",
      "Processing Record 48 of Set 12 | Port Macquarie\n",
      "Processing Record 49 of Set 12 | Williston\n",
      "Processing Record 0 of Set 13 | San Rafael\n",
      "Processing Record 1 of Set 13 | Necochea\n",
      "Processing Record 2 of Set 13 | Selfoss\n",
      "Processing Record 3 of Set 13 | Plettenberg Bay\n",
      "Processing Record 4 of Set 13 | Holualoa\n",
      "Processing Record 5 of Set 13 | Coahuayana De Hidalgo\n",
      "Processing Record 6 of Set 13 | Owase\n",
      "Processing Record 7 of Set 13 | Khanty-Mansiysk\n",
      "Processing Record 8 of Set 13 | Kingsville\n",
      "Processing Record 9 of Set 13 | Yeraliyev\n",
      "Processing Record 10 of Set 13 | Yermakovskoye\n",
      "Processing Record 11 of Set 13 | Ketchikan\n",
      "Processing Record 12 of Set 13 | Kiffa\n",
      "Processing Record 13 of Set 13 | Kavieng\n",
      "Processing Record 14 of Set 13 | Gereida\n",
      "-----------------------------\n",
      "Data Retrieval Complete      \n",
      "-----------------------------\n"
     ]
    }
   ],
   "source": [
    "# Set the API base URL\n",
    "url = \"https://api.openweathermap.org/data/2.5/weather?\"\n",
    "\n",
    "# Define an empty list to fetch the weather data for each city\n",
    "city_data = []\n",
    "\n",
    "# Print to logger\n",
    "print(\"Beginning Data Retrieval     \")\n",
    "print(\"-----------------------------\")\n",
    "\n",
    "# Create counters\n",
    "record_count = 1\n",
    "set_count = 1\n",
    "\n",
    "# Loop through all the cities in our list to fetch weather data\n",
    "for i, city in enumerate(cities):\n",
    "        \n",
    "    # Group cities in sets of 50 for logging purposes\n",
    "    if (i % 50 == 0 and i >= 50):\n",
    "        set_count += 1\n",
    "        record_count = 0\n",
    "   \n",
    "    # Titlecase the city name\n",
    "    tcity = city.title()\n",
    "    \n",
    "    # Create endpoint URL with each city\n",
    "    city_url = f'{url}appid={weather_api_key}&q={tcity}'\n",
    "    #print(city_url) #Part of debugging\n",
    "    # Log the url, record, and set numbers\n",
    "    print(\"Processing Record %s of Set %s | %s\" % (record_count, set_count, tcity))\n",
    "\n",
    "    # Add 1 to the record count\n",
    "    record_count += 1\n",
    "\n",
    "    # Run an API request for each of the cities\n",
    "    try:\n",
    "        # Parse the JSON and retrieve data\n",
    "        city_weather = requests.get(city_url).json()\n",
    "\n",
    "        # Parse out latitude, longitude, max temp, humidity, cloudiness, wind speed, country, and date\n",
    "        city_lat = city_weather[\"coord\"][\"lat\"]\n",
    "        city_lng = city_weather[\"coord\"][\"lon\"]\n",
    "        city_max_temp = city_weather[\"main\"][\"temp_max\"]\n",
    "        city_humidity = city_weather[\"main\"][\"humidity\"]\n",
    "        city_clouds = city_weather[\"clouds\"][\"all\"]\n",
    "        city_wind = city_weather[\"wind\"][\"speed\"]\n",
    "        city_country = city_weather[\"sys\"][\"country\"]\n",
    "        city_date = city_weather[\"dt\"]\n",
    "\n",
    "        # Append the City information into city_data list\n",
    "        city_data.append({\"City\": city, \n",
    "                          \"Lat\": city_lat, \n",
    "                          \"Lng\": city_lng, \n",
    "                          \"Max Temp\": city_max_temp,\n",
    "                          \"Humidity\": city_humidity,\n",
    "                          \"Cloudiness\": city_clouds,\n",
    "                          \"Wind Speed\": city_wind,\n",
    "                          \"Country\": city_country,\n",
    "                          \"Date\": city_date})\n",
    "\n",
    "    # If an error is experienced, skip the city\n",
    "    except:\n",
    "        print(\"City not found. Skipping...\")\n",
    "        pass\n",
    "              \n",
    "# Indicate that Data Loading is complete \n",
    "print(\"-----------------------------\")\n",
    "print(\"Data Retrieval Complete      \")\n",
    "print(\"-----------------------------\")"
   ]
  },
  {
   "cell_type": "code",
   "execution_count": 6,
   "metadata": {},
   "outputs": [
    {
     "data": {
      "text/plain": [
       "City          580\n",
       "Lat           580\n",
       "Lng           580\n",
       "Max Temp      580\n",
       "Humidity      580\n",
       "Cloudiness    580\n",
       "Wind Speed    580\n",
       "Country       580\n",
       "Date          580\n",
       "dtype: int64"
      ]
     },
     "execution_count": 6,
     "metadata": {},
     "output_type": "execute_result"
    }
   ],
   "source": [
    "# Convert the cities weather data into a Pandas DataFrame\n",
    "city_data_df = pd.DataFrame(city_data)\n",
    "\n",
    "# Show Record Count\n",
    "city_data_df.count()"
   ]
  },
  {
   "cell_type": "code",
   "execution_count": 7,
   "metadata": {},
   "outputs": [
    {
     "data": {
      "text/html": [
       "<div>\n",
       "<style scoped>\n",
       "    .dataframe tbody tr th:only-of-type {\n",
       "        vertical-align: middle;\n",
       "    }\n",
       "\n",
       "    .dataframe tbody tr th {\n",
       "        vertical-align: top;\n",
       "    }\n",
       "\n",
       "    .dataframe thead th {\n",
       "        text-align: right;\n",
       "    }\n",
       "</style>\n",
       "<table border=\"1\" class=\"dataframe\">\n",
       "  <thead>\n",
       "    <tr style=\"text-align: right;\">\n",
       "      <th></th>\n",
       "      <th>City</th>\n",
       "      <th>Lat</th>\n",
       "      <th>Lng</th>\n",
       "      <th>Max Temp</th>\n",
       "      <th>Humidity</th>\n",
       "      <th>Cloudiness</th>\n",
       "      <th>Wind Speed</th>\n",
       "      <th>Country</th>\n",
       "      <th>Date</th>\n",
       "    </tr>\n",
       "  </thead>\n",
       "  <tbody>\n",
       "    <tr>\n",
       "      <th>0</th>\n",
       "      <td>marka</td>\n",
       "      <td>1.7159</td>\n",
       "      <td>44.7717</td>\n",
       "      <td>299.86</td>\n",
       "      <td>81</td>\n",
       "      <td>93</td>\n",
       "      <td>3.49</td>\n",
       "      <td>SO</td>\n",
       "      <td>1698608884</td>\n",
       "    </tr>\n",
       "    <tr>\n",
       "      <th>1</th>\n",
       "      <td>isafjordur</td>\n",
       "      <td>66.0755</td>\n",
       "      <td>-23.1240</td>\n",
       "      <td>274.27</td>\n",
       "      <td>80</td>\n",
       "      <td>36</td>\n",
       "      <td>1.52</td>\n",
       "      <td>IS</td>\n",
       "      <td>1698608884</td>\n",
       "    </tr>\n",
       "    <tr>\n",
       "      <th>2</th>\n",
       "      <td>blackmans bay</td>\n",
       "      <td>-43.0167</td>\n",
       "      <td>147.3167</td>\n",
       "      <td>285.66</td>\n",
       "      <td>63</td>\n",
       "      <td>98</td>\n",
       "      <td>0.89</td>\n",
       "      <td>AU</td>\n",
       "      <td>1698608885</td>\n",
       "    </tr>\n",
       "    <tr>\n",
       "      <th>3</th>\n",
       "      <td>klyuchi</td>\n",
       "      <td>52.2667</td>\n",
       "      <td>79.1667</td>\n",
       "      <td>272.30</td>\n",
       "      <td>93</td>\n",
       "      <td>100</td>\n",
       "      <td>2.05</td>\n",
       "      <td>RU</td>\n",
       "      <td>1698608886</td>\n",
       "    </tr>\n",
       "    <tr>\n",
       "      <th>4</th>\n",
       "      <td>ust-nera</td>\n",
       "      <td>64.5667</td>\n",
       "      <td>143.2000</td>\n",
       "      <td>255.23</td>\n",
       "      <td>98</td>\n",
       "      <td>61</td>\n",
       "      <td>0.83</td>\n",
       "      <td>RU</td>\n",
       "      <td>1698608886</td>\n",
       "    </tr>\n",
       "  </tbody>\n",
       "</table>\n",
       "</div>"
      ],
      "text/plain": [
       "            City      Lat       Lng  Max Temp  Humidity  Cloudiness  \\\n",
       "0          marka   1.7159   44.7717    299.86        81          93   \n",
       "1     isafjordur  66.0755  -23.1240    274.27        80          36   \n",
       "2  blackmans bay -43.0167  147.3167    285.66        63          98   \n",
       "3        klyuchi  52.2667   79.1667    272.30        93         100   \n",
       "4       ust-nera  64.5667  143.2000    255.23        98          61   \n",
       "\n",
       "   Wind Speed Country        Date  \n",
       "0        3.49      SO  1698608884  \n",
       "1        1.52      IS  1698608884  \n",
       "2        0.89      AU  1698608885  \n",
       "3        2.05      RU  1698608886  \n",
       "4        0.83      RU  1698608886  "
      ]
     },
     "execution_count": 7,
     "metadata": {},
     "output_type": "execute_result"
    }
   ],
   "source": [
    "# Display sample data\n",
    "city_data_df.head()"
   ]
  },
  {
   "cell_type": "code",
   "execution_count": 8,
   "metadata": {},
   "outputs": [],
   "source": [
    "# Export the City_Data into a csv\n",
    "city_data_df.to_csv(\"output_data/cities.csv\", index_label=\"City_ID\")"
   ]
  },
  {
   "cell_type": "code",
   "execution_count": 9,
   "metadata": {},
   "outputs": [
    {
     "data": {
      "text/html": [
       "<div>\n",
       "<style scoped>\n",
       "    .dataframe tbody tr th:only-of-type {\n",
       "        vertical-align: middle;\n",
       "    }\n",
       "\n",
       "    .dataframe tbody tr th {\n",
       "        vertical-align: top;\n",
       "    }\n",
       "\n",
       "    .dataframe thead th {\n",
       "        text-align: right;\n",
       "    }\n",
       "</style>\n",
       "<table border=\"1\" class=\"dataframe\">\n",
       "  <thead>\n",
       "    <tr style=\"text-align: right;\">\n",
       "      <th></th>\n",
       "      <th>City</th>\n",
       "      <th>Lat</th>\n",
       "      <th>Lng</th>\n",
       "      <th>Max Temp</th>\n",
       "      <th>Humidity</th>\n",
       "      <th>Cloudiness</th>\n",
       "      <th>Wind Speed</th>\n",
       "      <th>Country</th>\n",
       "      <th>Date</th>\n",
       "    </tr>\n",
       "    <tr>\n",
       "      <th>City_ID</th>\n",
       "      <th></th>\n",
       "      <th></th>\n",
       "      <th></th>\n",
       "      <th></th>\n",
       "      <th></th>\n",
       "      <th></th>\n",
       "      <th></th>\n",
       "      <th></th>\n",
       "      <th></th>\n",
       "    </tr>\n",
       "  </thead>\n",
       "  <tbody>\n",
       "    <tr>\n",
       "      <th>0</th>\n",
       "      <td>marka</td>\n",
       "      <td>1.7159</td>\n",
       "      <td>44.7717</td>\n",
       "      <td>299.86</td>\n",
       "      <td>81</td>\n",
       "      <td>93</td>\n",
       "      <td>3.49</td>\n",
       "      <td>SO</td>\n",
       "      <td>1698608884</td>\n",
       "    </tr>\n",
       "    <tr>\n",
       "      <th>1</th>\n",
       "      <td>isafjordur</td>\n",
       "      <td>66.0755</td>\n",
       "      <td>-23.1240</td>\n",
       "      <td>274.27</td>\n",
       "      <td>80</td>\n",
       "      <td>36</td>\n",
       "      <td>1.52</td>\n",
       "      <td>IS</td>\n",
       "      <td>1698608884</td>\n",
       "    </tr>\n",
       "    <tr>\n",
       "      <th>2</th>\n",
       "      <td>blackmans bay</td>\n",
       "      <td>-43.0167</td>\n",
       "      <td>147.3167</td>\n",
       "      <td>285.66</td>\n",
       "      <td>63</td>\n",
       "      <td>98</td>\n",
       "      <td>0.89</td>\n",
       "      <td>AU</td>\n",
       "      <td>1698608885</td>\n",
       "    </tr>\n",
       "    <tr>\n",
       "      <th>3</th>\n",
       "      <td>klyuchi</td>\n",
       "      <td>52.2667</td>\n",
       "      <td>79.1667</td>\n",
       "      <td>272.30</td>\n",
       "      <td>93</td>\n",
       "      <td>100</td>\n",
       "      <td>2.05</td>\n",
       "      <td>RU</td>\n",
       "      <td>1698608886</td>\n",
       "    </tr>\n",
       "    <tr>\n",
       "      <th>4</th>\n",
       "      <td>ust-nera</td>\n",
       "      <td>64.5667</td>\n",
       "      <td>143.2000</td>\n",
       "      <td>255.23</td>\n",
       "      <td>98</td>\n",
       "      <td>61</td>\n",
       "      <td>0.83</td>\n",
       "      <td>RU</td>\n",
       "      <td>1698608886</td>\n",
       "    </tr>\n",
       "  </tbody>\n",
       "</table>\n",
       "</div>"
      ],
      "text/plain": [
       "                  City      Lat       Lng  Max Temp  Humidity  Cloudiness  \\\n",
       "City_ID                                                                     \n",
       "0                marka   1.7159   44.7717    299.86        81          93   \n",
       "1           isafjordur  66.0755  -23.1240    274.27        80          36   \n",
       "2        blackmans bay -43.0167  147.3167    285.66        63          98   \n",
       "3              klyuchi  52.2667   79.1667    272.30        93         100   \n",
       "4             ust-nera  64.5667  143.2000    255.23        98          61   \n",
       "\n",
       "         Wind Speed Country        Date  \n",
       "City_ID                                  \n",
       "0              3.49      SO  1698608884  \n",
       "1              1.52      IS  1698608884  \n",
       "2              0.89      AU  1698608885  \n",
       "3              2.05      RU  1698608886  \n",
       "4              0.83      RU  1698608886  "
      ]
     },
     "execution_count": 9,
     "metadata": {},
     "output_type": "execute_result"
    }
   ],
   "source": [
    "# Read saved data\n",
    "city_data_df = pd.read_csv(\"output_data/cities.csv\", index_col=\"City_ID\")\n",
    "\n",
    "# Display sample data\n",
    "city_data_df.head()"
   ]
  },
  {
   "cell_type": "markdown",
   "metadata": {},
   "source": [
    "### Create the Scatter Plots Requested\n",
    "\n",
    "#### Latitude Vs. Temperature"
   ]
  },
  {
   "cell_type": "code",
   "execution_count": 10,
   "metadata": {
    "tags": []
   },
   "outputs": [
    {
     "data": {
      "image/png": "[encoded data removed]",
      "text/plain": [
       "<Figure size 432x288 with 1 Axes>"
      ]
     },
     "metadata": {
      "needs_background": "light"
     },
     "output_type": "display_data"
    }
   ],
   "source": [
    "# Build scatter plot for latitude vs. temperature\n",
    "city_data_df.plot.scatter(\"Lat\", \"Max Temp\", marker='o',facecolors=\"blue\",edgecolors=\"black\",)\n",
    "\n",
    "# Incorporate the other graph properties\n",
    "plt.title(\"City Max Latitude Vs. Temperature (2020-10-18)\")\n",
    "plt.xlabel(\"Latitude\")\n",
    "plt.ylabel(\"Max Temperature (C)\")\n",
    "plt.grid(which='both', axis='both')\n",
    "\n",
    "# Save the figure\n",
    "plt.savefig(\"output_data/Fig1.png\")\n",
    "\n",
    "# Show plot\n",
    "plt.show()"
   ]
  },
  {
   "cell_type": "markdown",
   "metadata": {},
   "source": [
    "#### Latitude Vs. Humidity"
   ]
  },
  {
   "cell_type": "code",
   "execution_count": 11,
   "metadata": {},
   "outputs": [
    {
     "data": {
      "image/png": "[encoded data removed]",
      "text/plain": [
       "<Figure size 432x288 with 1 Axes>"
      ]
     },
     "metadata": {
      "needs_background": "light"
     },
     "output_type": "display_data"
    }
   ],
   "source": [
    "# Build the scatter plots for latitude vs. humidity\n",
    "city_data_df.plot.scatter(\"Lat\", \"Humidity\", marker='o',facecolors=\"blue\",edgecolors=\"black\",)\n",
    "\n",
    "# Incorporate the other graph properties\n",
    "plt.title(\"City Max Latitude Vs. Humidity (2020-10-18)\")\n",
    "plt.xlabel(\"Latitude\")\n",
    "plt.ylabel(\"Humidity (%)\")\n",
    "plt.grid(which='both', axis='both')\n",
    "\n",
    "# Save the figure\n",
    "plt.savefig(\"output_data/Fig2.png\")\n",
    "\n",
    "# Show plot\n",
    "plt.show()"
   ]
  },
  {
   "cell_type": "markdown",
   "metadata": {},
   "source": [
    "#### Latitude Vs. Cloudiness"
   ]
  },
  {
   "cell_type": "code",
   "execution_count": 12,
   "metadata": {},
   "outputs": [
    {
     "data": {
      "image/png": "[encoded data removed]",
      "text/plain": [
       "<Figure size 432x288 with 1 Axes>"
      ]
     },
     "metadata": {
      "needs_background": "light"
     },
     "output_type": "display_data"
    }
   ],
   "source": [
    "# Build the scatter plots for latitude vs. cloudiness\n",
    "city_data_df.plot.scatter(\"Lat\", \"Cloudiness\", marker='o',facecolors=\"blue\",edgecolors=\"black\",)\n",
    "\n",
    "# Incorporate the other graph properties\n",
    "plt.title(\"City Max Latitude Vs. Cloudiness (2020-10-18)\")\n",
    "plt.xlabel(\"Latitude\")\n",
    "plt.ylabel(\"Cloudiness (%)\")\n",
    "plt.grid(which='both', axis='both')\n",
    "\n",
    "# Save the figure\n",
    "plt.savefig(\"output_data/Fig3.png\")\n",
    "\n",
    "# Show plot\n",
    "plt.show()"
   ]
  },
  {
   "cell_type": "markdown",
   "metadata": {},
   "source": [
    "#### Latitude vs. Wind Speed Plot"
   ]
  },
  {
   "cell_type": "code",
   "execution_count": 13,
   "metadata": {},
   "outputs": [
    {
     "data": {
      "image/png": "[encoded data removed]",
      "text/plain": [
       "<Figure size 432x288 with 1 Axes>"
      ]
     },
     "metadata": {
      "needs_background": "light"
     },
     "output_type": "display_data"
    }
   ],
   "source": [
    "# Build the scatter plots for latitude vs. wind speed\n",
    "city_data_df.plot.scatter(\"Lat\", \"Wind Speed\", marker='o',facecolors=\"blue\",edgecolors=\"black\",)\n",
    "\n",
    "# Incorporate the other graph properties\n",
    "plt.title(\"City Max Latitude Vs. Wind Speed (2020-10-18)\")\n",
    "plt.xlabel(\"Latitude\")\n",
    "plt.ylabel(\"Wind Speed (m/s)\")\n",
    "plt.grid(which='both', axis='both')\n",
    "\n",
    "# Save the figure\n",
    "plt.savefig(\"output_data/Fig4.png\")\n",
    "\n",
    "# Show plot\n",
    "plt.show()"
   ]
  },
  {
   "cell_type": "markdown",
   "metadata": {},
   "source": [
    "---\n",
    "\n",
    "## Requirement 2: Compute Linear Regression for Each Relationship\n"
   ]
  },
  {
   "cell_type": "code",
   "execution_count": 81,
   "metadata": {},
   "outputs": [],
   "source": [
    "# Define a function to create Linear Regression plots\n",
    "#This codeblock was helped by bard and askBCS as it was causing issues\n",
    "def regress(x_values, y_values, coordinates):\n",
    "    (slope, intercept, rvalue, pvalue, stderr) = linregress(x_values, y_values)\n",
    "    regress_values = x_values * slope + intercept\n",
    "    line_eq = \"y = \" + str(round(slope,2)) + \"x + \" + str(round(intercept,2))\n",
    "    plt.scatter(x_values,y_values)\n",
    "    plt.plot(x_values,regress_values,\"r-\")\n",
    "    plt.annotate(line_eq,(coordinates),fontsize=15,color=\"red\")\n",
    "    plt.xlabel(x_label)\n",
    "    plt.ylabel(y_label)\n",
    "    print(f\"The r-squared is: {rvalue**2}\")\n",
    "    plt.show()"
   ]
  },
  {
   "cell_type": "code",
   "execution_count": 20,
   "metadata": {},
   "outputs": [
    {
     "data": {
      "text/html": [
       "<div>\n",
       "<style scoped>\n",
       "    .dataframe tbody tr th:only-of-type {\n",
       "        vertical-align: middle;\n",
       "    }\n",
       "\n",
       "    .dataframe tbody tr th {\n",
       "        vertical-align: top;\n",
       "    }\n",
       "\n",
       "    .dataframe thead th {\n",
       "        text-align: right;\n",
       "    }\n",
       "</style>\n",
       "<table border=\"1\" class=\"dataframe\">\n",
       "  <thead>\n",
       "    <tr style=\"text-align: right;\">\n",
       "      <th></th>\n",
       "      <th>City</th>\n",
       "      <th>Lat</th>\n",
       "      <th>Lng</th>\n",
       "      <th>Max Temp</th>\n",
       "      <th>Humidity</th>\n",
       "      <th>Cloudiness</th>\n",
       "      <th>Wind Speed</th>\n",
       "      <th>Country</th>\n",
       "      <th>Date</th>\n",
       "    </tr>\n",
       "    <tr>\n",
       "      <th>City_ID</th>\n",
       "      <th></th>\n",
       "      <th></th>\n",
       "      <th></th>\n",
       "      <th></th>\n",
       "      <th></th>\n",
       "      <th></th>\n",
       "      <th></th>\n",
       "      <th></th>\n",
       "      <th></th>\n",
       "    </tr>\n",
       "  </thead>\n",
       "  <tbody>\n",
       "    <tr>\n",
       "      <th>0</th>\n",
       "      <td>marka</td>\n",
       "      <td>1.7159</td>\n",
       "      <td>44.7717</td>\n",
       "      <td>299.86</td>\n",
       "      <td>81</td>\n",
       "      <td>93</td>\n",
       "      <td>3.49</td>\n",
       "      <td>SO</td>\n",
       "      <td>1698608884</td>\n",
       "    </tr>\n",
       "    <tr>\n",
       "      <th>1</th>\n",
       "      <td>isafjordur</td>\n",
       "      <td>66.0755</td>\n",
       "      <td>-23.1240</td>\n",
       "      <td>274.27</td>\n",
       "      <td>80</td>\n",
       "      <td>36</td>\n",
       "      <td>1.52</td>\n",
       "      <td>IS</td>\n",
       "      <td>1698608884</td>\n",
       "    </tr>\n",
       "    <tr>\n",
       "      <th>3</th>\n",
       "      <td>klyuchi</td>\n",
       "      <td>52.2667</td>\n",
       "      <td>79.1667</td>\n",
       "      <td>272.30</td>\n",
       "      <td>93</td>\n",
       "      <td>100</td>\n",
       "      <td>2.05</td>\n",
       "      <td>RU</td>\n",
       "      <td>1698608886</td>\n",
       "    </tr>\n",
       "    <tr>\n",
       "      <th>4</th>\n",
       "      <td>ust-nera</td>\n",
       "      <td>64.5667</td>\n",
       "      <td>143.2000</td>\n",
       "      <td>255.23</td>\n",
       "      <td>98</td>\n",
       "      <td>61</td>\n",
       "      <td>0.83</td>\n",
       "      <td>RU</td>\n",
       "      <td>1698608886</td>\n",
       "    </tr>\n",
       "    <tr>\n",
       "      <th>5</th>\n",
       "      <td>georgetown</td>\n",
       "      <td>5.4112</td>\n",
       "      <td>100.3354</td>\n",
       "      <td>298.16</td>\n",
       "      <td>94</td>\n",
       "      <td>20</td>\n",
       "      <td>2.24</td>\n",
       "      <td>MY</td>\n",
       "      <td>1698608887</td>\n",
       "    </tr>\n",
       "  </tbody>\n",
       "</table>\n",
       "</div>"
      ],
      "text/plain": [
       "               City      Lat       Lng  Max Temp  Humidity  Cloudiness  \\\n",
       "City_ID                                                                  \n",
       "0             marka   1.7159   44.7717    299.86        81          93   \n",
       "1        isafjordur  66.0755  -23.1240    274.27        80          36   \n",
       "3           klyuchi  52.2667   79.1667    272.30        93         100   \n",
       "4          ust-nera  64.5667  143.2000    255.23        98          61   \n",
       "5        georgetown   5.4112  100.3354    298.16        94          20   \n",
       "\n",
       "         Wind Speed Country        Date  \n",
       "City_ID                                  \n",
       "0              3.49      SO  1698608884  \n",
       "1              1.52      IS  1698608884  \n",
       "3              2.05      RU  1698608886  \n",
       "4              0.83      RU  1698608886  \n",
       "5              2.24      MY  1698608887  "
      ]
     },
     "execution_count": 20,
     "metadata": {},
     "output_type": "execute_result"
    }
   ],
   "source": [
    "# Create a DataFrame with the Northern Hemisphere data (Latitude >= 0)\n",
    "northern_hemi_df= city_data_df[city_data_df['Lat'] >= 0]\n",
    "\n",
    "# Display sample data\n",
    "northern_hemi_df.head()"
   ]
  },
  {
   "cell_type": "code",
   "execution_count": 21,
   "metadata": {},
   "outputs": [
    {
     "data": {
      "text/html": [
       "<div>\n",
       "<style scoped>\n",
       "    .dataframe tbody tr th:only-of-type {\n",
       "        vertical-align: middle;\n",
       "    }\n",
       "\n",
       "    .dataframe tbody tr th {\n",
       "        vertical-align: top;\n",
       "    }\n",
       "\n",
       "    .dataframe thead th {\n",
       "        text-align: right;\n",
       "    }\n",
       "</style>\n",
       "<table border=\"1\" class=\"dataframe\">\n",
       "  <thead>\n",
       "    <tr style=\"text-align: right;\">\n",
       "      <th></th>\n",
       "      <th>City</th>\n",
       "      <th>Lat</th>\n",
       "      <th>Lng</th>\n",
       "      <th>Max Temp</th>\n",
       "      <th>Humidity</th>\n",
       "      <th>Cloudiness</th>\n",
       "      <th>Wind Speed</th>\n",
       "      <th>Country</th>\n",
       "      <th>Date</th>\n",
       "    </tr>\n",
       "    <tr>\n",
       "      <th>City_ID</th>\n",
       "      <th></th>\n",
       "      <th></th>\n",
       "      <th></th>\n",
       "      <th></th>\n",
       "      <th></th>\n",
       "      <th></th>\n",
       "      <th></th>\n",
       "      <th></th>\n",
       "      <th></th>\n",
       "    </tr>\n",
       "  </thead>\n",
       "  <tbody>\n",
       "    <tr>\n",
       "      <th>2</th>\n",
       "      <td>blackmans bay</td>\n",
       "      <td>-43.0167</td>\n",
       "      <td>147.3167</td>\n",
       "      <td>285.66</td>\n",
       "      <td>63</td>\n",
       "      <td>98</td>\n",
       "      <td>0.89</td>\n",
       "      <td>AU</td>\n",
       "      <td>1698608885</td>\n",
       "    </tr>\n",
       "    <tr>\n",
       "      <th>6</th>\n",
       "      <td>port-aux-francais</td>\n",
       "      <td>-49.3500</td>\n",
       "      <td>70.2167</td>\n",
       "      <td>274.93</td>\n",
       "      <td>83</td>\n",
       "      <td>100</td>\n",
       "      <td>11.86</td>\n",
       "      <td>TF</td>\n",
       "      <td>1698608888</td>\n",
       "    </tr>\n",
       "    <tr>\n",
       "      <th>7</th>\n",
       "      <td>ballina</td>\n",
       "      <td>-28.8667</td>\n",
       "      <td>153.5667</td>\n",
       "      <td>285.81</td>\n",
       "      <td>79</td>\n",
       "      <td>2</td>\n",
       "      <td>2.54</td>\n",
       "      <td>AU</td>\n",
       "      <td>1698608889</td>\n",
       "    </tr>\n",
       "    <tr>\n",
       "      <th>8</th>\n",
       "      <td>margaret river</td>\n",
       "      <td>-33.9500</td>\n",
       "      <td>115.0667</td>\n",
       "      <td>285.47</td>\n",
       "      <td>65</td>\n",
       "      <td>80</td>\n",
       "      <td>5.76</td>\n",
       "      <td>AU</td>\n",
       "      <td>1698608890</td>\n",
       "    </tr>\n",
       "    <tr>\n",
       "      <th>10</th>\n",
       "      <td>hermanus</td>\n",
       "      <td>-34.4187</td>\n",
       "      <td>19.2345</td>\n",
       "      <td>286.87</td>\n",
       "      <td>62</td>\n",
       "      <td>0</td>\n",
       "      <td>11.59</td>\n",
       "      <td>ZA</td>\n",
       "      <td>1698608892</td>\n",
       "    </tr>\n",
       "  </tbody>\n",
       "</table>\n",
       "</div>"
      ],
      "text/plain": [
       "                      City      Lat       Lng  Max Temp  Humidity  Cloudiness  \\\n",
       "City_ID                                                                         \n",
       "2            blackmans bay -43.0167  147.3167    285.66        63          98   \n",
       "6        port-aux-francais -49.3500   70.2167    274.93        83         100   \n",
       "7                  ballina -28.8667  153.5667    285.81        79           2   \n",
       "8           margaret river -33.9500  115.0667    285.47        65          80   \n",
       "10                hermanus -34.4187   19.2345    286.87        62           0   \n",
       "\n",
       "         Wind Speed Country        Date  \n",
       "City_ID                                  \n",
       "2              0.89      AU  1698608885  \n",
       "6             11.86      TF  1698608888  \n",
       "7              2.54      AU  1698608889  \n",
       "8              5.76      AU  1698608890  \n",
       "10            11.59      ZA  1698608892  "
      ]
     },
     "execution_count": 21,
     "metadata": {},
     "output_type": "execute_result"
    }
   ],
   "source": [
    "# Create a DataFrame with the Southern Hemisphere data (Latitude < 0)\n",
    "southern_hemi_df= city_data_df[city_data_df['Lat'] <= 0]\n",
    "\n",
    "# Display sample data\n",
    "southern_hemi_df.head()"
   ]
  },
  {
   "cell_type": "markdown",
   "metadata": {},
   "source": [
    "###  Temperature vs. Latitude Linear Regression Plot"
   ]
  },
  {
   "cell_type": "code",
   "execution_count": 84,
   "metadata": {
    "scrolled": true
   },
   "outputs": [
    {
     "name": "stdout",
     "output_type": "stream",
     "text": [
      "The r-squared is: 0.7661323403133814\n"
     ]
    },
    {
     "data": {
      "image/png": "[encoded data removed]",
      "text/plain": [
       "<Figure size 432x288 with 1 Axes>"
      ]
     },
     "metadata": {
      "needs_background": "light"
     },
     "output_type": "display_data"
    }
   ],
   "source": [
    "# Linear regression on Northern Hemisphere\n",
    "x_values = northern_hemi_df['Lat']\n",
    "y_values = northern_hemi_df['Max Temp']\n",
    "x_label='Lattitude'\n",
    "y_label='Max Temp'\n",
    "regress(x_values, y_values, (10,260))"
   ]
  },
  {
   "cell_type": "code",
   "execution_count": 91,
   "metadata": {},
   "outputs": [
    {
     "name": "stdout",
     "output_type": "stream",
     "text": [
      "The r-squared is: 0.5717760469432311\n"
     ]
    },
    {
     "data": {
      "image/png": "[encoded data removed]",
      "text/plain": [
       "<Figure size 432x288 with 1 Axes>"
      ]
     },
     "metadata": {
      "needs_background": "light"
     },
     "output_type": "display_data"
    }
   ],
   "source": [
    "# Linear regression on Southern Hemisphere\n",
    "x_values = southern_hemi_df['Lat']\n",
    "y_values = southern_hemi_df['Max Temp']\n",
    "x_label='Lattitude'\n",
    "y_label='Max Temp'\n",
    "regress(x_values, y_values, (-55,310))"
   ]
  },
  {
   "cell_type": "markdown",
   "metadata": {},
   "source": [
    "**Discussion about the linear relationship:** For the northern hemisphere, you can expect that for every point of lattitude, the max temperature drops by 62%. For the southern hemisphere, for every increase in lattitude, you can expect the max temperature to increase by 41%."
   ]
  },
  {
   "cell_type": "markdown",
   "metadata": {},
   "source": [
    "### Humidity vs. Latitude Linear Regression Plot"
   ]
  },
  {
   "cell_type": "code",
   "execution_count": 92,
   "metadata": {},
   "outputs": [
    {
     "name": "stdout",
     "output_type": "stream",
     "text": [
      "The r-squared is: 0.04387011654125041\n"
     ]
    },
    {
     "data": {
      "image/png": "[encoded data removed]",
      "text/plain": [
       "<Figure size 432x288 with 1 Axes>"
      ]
     },
     "metadata": {
      "needs_background": "light"
     },
     "output_type": "display_data"
    }
   ],
   "source": [
    "# Northern Hemisphere\n",
    "x_values = northern_hemi_df['Lat']\n",
    "y_values = northern_hemi_df['Humidity']\n",
    "x_label='Lattitude'\n",
    "y_label='Humidity'\n",
    "regress(x_values, y_values, (40,10))"
   ]
  },
  {
   "cell_type": "code",
   "execution_count": 93,
   "metadata": {},
   "outputs": [
    {
     "name": "stdout",
     "output_type": "stream",
     "text": [
      "The r-squared is: 0.013378559916665984\n"
     ]
    },
    {
     "data": {
      "image/png": "[encoded data removed]",
      "text/plain": [
       "<Figure size 432x288 with 1 Axes>"
      ]
     },
     "metadata": {
      "needs_background": "light"
     },
     "output_type": "display_data"
    }
   ],
   "source": [
    "# Southern Hemisphere\n",
    "x_values = southern_hemi_df['Lat']\n",
    "y_values = southern_hemi_df['Humidity']\n",
    "x_label='Lattitude'\n",
    "y_label='Humidity'\n",
    "regress(x_values, y_values, (-50,20))"
   ]
  },
  {
   "cell_type": "markdown",
   "metadata": {},
   "source": [
    "**Discussion about the linear relationship:** The northern hemisphere and southern hemisphere both have similar relationships, where the humidity increases roughly the same for each point of lattitude."
   ]
  },
  {
   "cell_type": "markdown",
   "metadata": {},
   "source": [
    "### Cloudiness vs. Latitude Linear Regression Plot"
   ]
  },
  {
   "cell_type": "code",
   "execution_count": 95,
   "metadata": {},
   "outputs": [
    {
     "name": "stdout",
     "output_type": "stream",
     "text": [
      "The r-squared is: 0.022118698330669182\n"
     ]
    },
    {
     "data": {
      "image/png": "[encoded data removed]",
      "text/plain": [
       "<Figure size 432x288 with 1 Axes>"
      ]
     },
     "metadata": {
      "needs_background": "light"
     },
     "output_type": "display_data"
    }
   ],
   "source": [
    "# Northern Hemisphere\n",
    "x_values = northern_hemi_df['Lat']\n",
    "y_values = northern_hemi_df['Cloudiness']\n",
    "x_label='Lattitude'\n",
    "y_label='Cloudiness'\n",
    "regress(x_values, y_values, (40,10))"
   ]
  },
  {
   "cell_type": "code",
   "execution_count": 96,
   "metadata": {},
   "outputs": [
    {
     "name": "stdout",
     "output_type": "stream",
     "text": [
      "The r-squared is: 0.0004304731942908218\n"
     ]
    },
    {
     "data": {
      "image/png": "[encoded data removed]",
      "text/plain": [
       "<Figure size 432x288 with 1 Axes>"
      ]
     },
     "metadata": {
      "needs_background": "light"
     },
     "output_type": "display_data"
    }
   ],
   "source": [
    "# Southern Hemisphere\n",
    "x_values = southern_hemi_df['Lat']\n",
    "y_values = southern_hemi_df['Cloudiness']\n",
    "x_label='Lattitude'\n",
    "y_label='Cloudiness'\n",
    "regress(x_values, y_values, (-30,30))"
   ]
  },
  {
   "cell_type": "markdown",
   "metadata": {},
   "source": [
    "**Discussion about the linear relationship:** The northern and southern hemisphere have opposite relationships. Where the northern hemisphere increases cloudiness for every point of lattitude, the southern hemisphere decreases."
   ]
  },
  {
   "cell_type": "markdown",
   "metadata": {},
   "source": [
    "### Wind Speed vs. Latitude Linear Regression Plot"
   ]
  },
  {
   "cell_type": "code",
   "execution_count": 103,
   "metadata": {},
   "outputs": [
    {
     "name": "stdout",
     "output_type": "stream",
     "text": [
      "The r-squared is: 0.0007800244926786903\n"
     ]
    },
    {
     "data": {
      "image/png": "[encoded data removed]",
      "text/plain": [
       "<Figure size 432x288 with 1 Axes>"
      ]
     },
     "metadata": {
      "needs_background": "light"
     },
     "output_type": "display_data"
    }
   ],
   "source": [
    "# Northern Hemisphere\n",
    "x_values = northern_hemi_df['Lat']\n",
    "y_values = northern_hemi_df['Wind Speed']\n",
    "x_label='Lattitude'\n",
    "y_label='Wind Speed'\n",
    "regress(x_values, y_values, (0,11))"
   ]
  },
  {
   "cell_type": "code",
   "execution_count": 101,
   "metadata": {},
   "outputs": [
    {
     "name": "stdout",
     "output_type": "stream",
     "text": [
      "The r-squared is: 0.06456579853140433\n"
     ]
    },
    {
     "data": {
      "image/png": "[encoded data removed]",
      "text/plain": [
       "<Figure size 432x288 with 1 Axes>"
      ]
     },
     "metadata": {
      "needs_background": "light"
     },
     "output_type": "display_data"
    }
   ],
   "source": [
    "# Southern Hemisphere\n",
    "x_values = southern_hemi_df['Lat']\n",
    "y_values = southern_hemi_df['Wind Speed']\n",
    "x_label='Lattitude'\n",
    "y_label='Wind Speed'\n",
    "regress(x_values, y_values, (-30,14))"
   ]
  },
  {
   "cell_type": "markdown",
   "metadata": {},
   "source": [
    "**Discussion about the linear relationship:** The northern hemisphere has a strange output, with a constant average wind speed of 3.23. The southern has a negative relationship where each point of lattitude decreases wind speed by 5%."
   ]
  },
  {
   "cell_type": "code",
   "execution_count": null,
   "metadata": {},
   "outputs": [],
   "source": []
  }
 ],
 "metadata": {
  "anaconda-cloud": {},
  "kernel_info": {
   "name": "python3"
  },
  "kernelspec": {
   "display_name": "PythonData",
   "language": "python",
   "name": "pythondata"
  },
  "language_info": {
   "codemirror_mode": {
    "name": "ipython",
    "version": 3
   },
   "file_extension": ".py",
   "mimetype": "text/x-python",
   "name": "python",
   "nbconvert_exporter": "python",
   "pygments_lexer": "ipython3",
   "version": "3.7.7"
  },
  "latex_envs": {
   "LaTeX_envs_menu_present": true,
   "autoclose": false,
   "autocomplete": true,
   "bibliofile": "biblio.bib",
   "cite_by": "apalike",
   "current_citInitial": 1,
   "eqLabelWithNumbers": true,
   "eqNumInitial": 1,
   "hotkeys": {
    "equation": "Ctrl-E",
    "itemize": "Ctrl-I"
   },
   "labels_anchors": false,
   "latex_user_defs": false,
   "report_style_numbering": false,
   "user_envs_cfg": false
  },
  "nteract": {
   "version": "0.12.3"
  }
 },
 "nbformat": 4,
 "nbformat_minor": 4
}
